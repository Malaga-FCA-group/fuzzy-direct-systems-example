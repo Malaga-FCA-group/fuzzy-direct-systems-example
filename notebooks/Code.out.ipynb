{
 "cells": [
  {
   "cell_type": "markdown",
   "metadata": {},
   "source": [
    "# Code and example\n",
    "\n",
    "Domingo López-Rodríguez, Manuel Ojeda-Hernández\n",
    "\n",
    "# Introduction\n",
    "\n",
    "This is the code and the example in the paper *On direct systems of implications with graded attributes* submitted to EUSFLAT 2025.\n",
    "\n",
    "# Prerequisites\n",
    "\n",
    "We assume knowledge of the `R` programming language. The libraries `digest`, `glue`, and `rlang` should be installed.\n",
    "\n",
    "# Code\n",
    "\n",
    "## Auxiliary functions"
   ],
   "id": "f8b08bb4-52b7-498c-bedb-2d4fc3c7b905"
  },
  {
   "cell_type": "code",
   "execution_count": null,
   "metadata": {},
   "outputs": [],
   "source": [
    "tnorm <- \\(alpha, beta) max(c(0, alpha + beta - 1))\n",
    "union <- \\(A, B) pmax(A, B)\n",
    "setminus <- \\(A, B) {A[B >= A] <- 0; return(A)}\n",
    "otimes <- \\(alpha, A) {sapply(A, \\(x) tnorm(alpha, x))}\n",
    "\n",
    "print_implication <- function(A, B) {\n",
    "\n",
    "  print_set <- function(A) {\n",
    "\n",
    "    a <- A[A > 0]\n",
    "    v_str <- ifelse(a < 1,\n",
    "                    glue::glue(\" ({a})\"),\n",
    "                    \"\")\n",
    "\n",
    "    glue::glue(\"{names(a)}{v_str}\") |>\n",
    "      stringr::str_flatten_comma()\n",
    "\n",
    "  }\n",
    "\n",
    "  a <- print_set(A)\n",
    "  b <- print_set(B)\n",
    "  glue::glue(\"{a} -> {b}\")\n",
    "\n",
    "}\n",
    "\n",
    "# Helps in printing implications for easy reading\n",
    "print_all_implications <- function(LHS, RHS) {\n",
    "\n",
    "  txt <- c()\n",
    "  for (i in seq_along(LHS)) {\n",
    "\n",
    "    txt <- c(txt, print_implication(LHS[[i]], RHS[[i]]))\n",
    "\n",
    "  }\n",
    "\n",
    "  return(txt)\n",
    "\n",
    "}\n"
   ],
   "id": "d09c4c5e-c6c6-4fbc-a3ff-f3902d6542d9"
  },
  {
   "cell_type": "markdown",
   "metadata": {},
   "source": [
    "## `DirectSystem`"
   ],
   "id": "6bf7a4b7-4468-4453-8bfc-a1c650a5d842"
  },
  {
   "cell_type": "code",
   "execution_count": null,
   "metadata": {},
   "outputs": [],
   "source": [
    "direct_system <- function(SigmaLHS, SigmaRHS) {\n",
    "  \n",
    "  Reduced <- reduce_system(SigmaLHS, SigmaRHS)\n",
    "  SigmaLHS <- Reduced[[1]]\n",
    "  SigmaRHS <- Reduced[[2]]\n",
    "  \n",
    "  iter <- 0\n",
    "  \n",
    "  old_pairwise <- matrix(FALSE,\n",
    "                         nrow = length(SigmaLHS),\n",
    "                         ncol = length(SigmaRHS))\n",
    "  colnames(old_pairwise) <- rownames(old_pairwise) <- names(SigmaLHS)\n",
    "  \n",
    "  repeat {\n",
    "    \n",
    "    iter <- iter + 1\n",
    "    \n",
    "    new_pairwise <- matrix(FALSE,\n",
    "                           nrow = length(SigmaLHS),\n",
    "                           ncol = length(SigmaRHS))\n",
    "    colnames(new_pairwise) <- rownames(new_pairwise) <- names(SigmaLHS)\n",
    "    \n",
    "    new_pairwise[old_pairwise] <- TRUE\n",
    "    \n",
    "    added <- FALSE\n",
    "    \n",
    "    newLHS <- newRHS <- list()\n",
    "    \n",
    "    hashes <- names(SigmaLHS)\n",
    "    \n",
    "    configs <- expand.grid(hashes, hashes)\n",
    "    \n",
    "    for (idx in seq(nrow(configs))) {\n",
    "      \n",
    "      i <- configs[idx, 1]\n",
    "      j <- configs[idx, 2]\n",
    "      \n",
    "      if (i == j) next\n",
    "      if (new_pairwise[i, j]) next\n",
    "      \n",
    "      new_pairwise[i, j] <- TRUE\n",
    "      \n",
    "      A <- SigmaLHS[[i]]; B <- SigmaRHS[[i]]\n",
    "      C <- SigmaLHS[[j]]; D <- SigmaRHS[[j]]\n",
    "      \n",
    "      Derived <- add_derived(A, B, C, D)\n",
    "      \n",
    "      Derived <- combine(Derived[[1]], Derived[[2]],\n",
    "                         newLHS, newRHS)\n",
    "      newLHS <- Derived$lhs\n",
    "      newRHS <- Derived$rhs\n",
    "      \n",
    "    }\n",
    "    \n",
    "    # optional, simplification of D\n",
    "    # cat(\"*** Simplifying D:\\n\")\n",
    "    # AA <- simplify(newLHS, newRHS)\n",
    "    # newLHS <- AA[[1]]\n",
    "    # newRHS <- AA[[2]]\n",
    "    \n",
    "    # Combine:  \n",
    "    AA <- combine(newLHS, newRHS,\n",
    "                  SigmaLHS, SigmaRHS,\n",
    "                  new_pairwise)\n",
    "    \n",
    "    SigmaLHS <- AA$lhs\n",
    "    SigmaRHS <- AA$rhs\n",
    "    added <- AA$added\n",
    "    \n",
    "    old_pairwise <- AA$new_pairwise\n",
    "    if (!added) break\n",
    "    \n",
    "  }\n",
    "  \n",
    "  return(invisible(list(SigmaLHS, SigmaRHS)))\n",
    "  \n",
    "}\n"
   ],
   "id": "bf5b0fce-c01a-4f49-967a-9c77d1b2440d"
  },
  {
   "cell_type": "markdown",
   "metadata": {},
   "source": [
    "## `ReduceSystem`"
   ],
   "id": "160811db-b0fc-442b-a414-51900f0ba2f0"
  },
  {
   "cell_type": "code",
   "execution_count": null,
   "metadata": {},
   "outputs": [],
   "source": [
    "reduce_system <- function(LHS, RHS) {\n",
    "\n",
    "  mark_to_remove <- rep(FALSE, length(LHS))\n",
    "  for (i in seq_along(LHS)) {\n",
    "\n",
    "    RHS[[i]] <- setminus(RHS[[i]], LHS[[i]])\n",
    "\n",
    "    if (sum(RHS[[i]]) == 0) mark_to_remove[i] <- TRUE\n",
    "\n",
    "  }\n",
    "\n",
    "  LHS <- LHS[!mark_to_remove]\n",
    "  RHS <- RHS[!mark_to_remove]\n",
    "\n",
    "  return(list(LHS, RHS))\n",
    "\n",
    "}\n"
   ],
   "id": "cd8ac1e0-ed42-4dea-9893-0c2a5fa8eb47"
  },
  {
   "cell_type": "markdown",
   "metadata": {},
   "source": [
    "## `AddDerived`"
   ],
   "id": "f51807e4-ef20-484e-87ee-5ec3efd1ff58"
  },
  {
   "cell_type": "code",
   "execution_count": null,
   "metadata": {},
   "outputs": [],
   "source": [
    "add_derived <- function(A, B, C, D) {\n",
    "  \n",
    "  LHS <- RHS <- list()\n",
    "  \n",
    "  for (alpha in L) {\n",
    "    \n",
    "    if (alpha == 0) next\n",
    "    \n",
    "    alphaA <- otimes(alpha, A)\n",
    "    alphaB <- otimes(alpha, B)\n",
    "    \n",
    "    for (beta in L) {\n",
    "      \n",
    "      if (beta == 0) next\n",
    "      \n",
    "      betaC <- otimes(beta, C)\n",
    "      betaD <- otimes(beta, D)\n",
    "\n",
    "      cond1 <- setminus(alphaB, betaC)\n",
    "      cond2 <- setminus(betaD, alphaA)\n",
    "      \n",
    "      if ((sum(cond1) == 0) || (sum(cond2) == 0)) next\n",
    "      \n",
    "      G <- union(alphaA, setminus(betaC, alphaB))\n",
    "      H <- cond2\n",
    "      \n",
    "      LHS <- append(LHS, list(G))\n",
    "      RHS <- append(RHS, list(H))\n",
    "      \n",
    "    }\n",
    "    \n",
    "  }\n",
    "  \n",
    "  return(list(LHS, RHS))\n",
    "  \n",
    "}\n"
   ],
   "id": "25784f6f-37e1-4b33-9552-93fbf914812b"
  },
  {
   "cell_type": "markdown",
   "metadata": {},
   "source": [
    "## `Combine`"
   ],
   "id": "f5ca3815-edcc-49ee-8452-8f79daf9b826"
  },
  {
   "cell_type": "code",
   "execution_count": null,
   "metadata": {},
   "outputs": [],
   "source": [
    "combine <- function(LHS1, RHS1,\n",
    "                    SigmaLHS, SigmaRHS,\n",
    "                    new_pairwise) {\n",
    "  \n",
    "  update <- TRUE\n",
    "  if (missing(new_pairwise)) update <- FALSE\n",
    "  \n",
    "  added <- FALSE\n",
    "  \n",
    "  for (i in seq_along(LHS1)) {\n",
    "    \n",
    "    hashA <- digest::digest(LHS1[[i]])\n",
    "    \n",
    "    if (is.null(SigmaLHS[[hashA]])) {\n",
    "      \n",
    "      added <- TRUE\n",
    "      SigmaLHS[[hashA]] <- LHS1[[i]]\n",
    "      SigmaRHS[[hashA]] <- RHS1[[i]]\n",
    "      \n",
    "    } else {\n",
    "      \n",
    "      # It is already an implication with that LHS\n",
    "      if (any(RHS1[[i]] > SigmaRHS[[hashA]])) {\n",
    "        \n",
    "        # New information\n",
    "        added <- TRUE\n",
    "        if (update) {\n",
    "          \n",
    "          new_pairwise[hashA, ] <- FALSE\n",
    "          new_pairwise[, hashA] <- FALSE\n",
    "          \n",
    "        }\n",
    "        SigmaRHS[[hashA]] <- union(SigmaRHS[[hashA]], RHS1[[i]])\n",
    "        \n",
    "      } else {\n",
    "        \n",
    "        # It was already considered in the system\n",
    "        \n",
    "      }\n",
    "      \n",
    "    }\n",
    "    \n",
    "  }\n",
    "  \n",
    "  if (update) {\n",
    "    \n",
    "    return(list(added = added,\n",
    "                lhs = SigmaLHS, rhs = SigmaRHS,\n",
    "                new_pairwise = new_pairwise))\n",
    "    \n",
    "  }\n",
    "  return(list(added = added,\n",
    "              lhs = SigmaLHS, rhs = SigmaRHS))\n",
    "  \n",
    "}\n"
   ],
   "id": "fe7dd2d3-6a87-4c93-a9d2-c3c281c545b1"
  },
  {
   "cell_type": "markdown",
   "metadata": {},
   "source": [
    "# Example"
   ],
   "id": "f7c688c0-19c2-425c-a518-9038f28724ae"
  },
  {
   "cell_type": "code",
   "execution_count": null,
   "metadata": {},
   "outputs": [],
   "source": [
    "# Example in the paper\n",
    "L <- c(0, 0.5, 1)\n",
    "LHS1 <- c(0.5, 0, 1, 0) |> rlang::set_names(letters[1:4])\n",
    "RHS1 <- c(0, 1, 0, 0.5) |> rlang::set_names(letters[1:4])\n",
    "LHS2 <- c(0.5, 1, 0, 0.5) |> rlang::set_names(letters[1:4])\n",
    "RHS2 <- c(1, 0, 1, 1) |> rlang::set_names(letters[1:4])\n",
    "\n",
    "LHS <- list(LHS1, LHS2)\n",
    "RHS <- list(RHS1, RHS2)\n"
   ],
   "id": "04e0714e-a8df-4afa-ab78-cdca629f7965"
  },
  {
   "cell_type": "markdown",
   "metadata": {},
   "source": [
    "## Initialize $\\Sigma$"
   ],
   "id": "707d4d49-c450-4e20-9831-28353f3b5809"
  },
  {
   "cell_type": "code",
   "execution_count": null,
   "metadata": {},
   "outputs": [],
   "source": [
    "SigmaLHS <- SigmaRHS <- list()\n",
    "Sigma <- combine(LHS, RHS, \n",
    "                 SigmaLHS, SigmaRHS)\n",
    "SigmaLHS <- Sigma$lhs\n",
    "SigmaRHS <- Sigma$rhs\n"
   ],
   "id": "386a262c-9a8f-4fd4-a0e1-b390097abce1"
  },
  {
   "cell_type": "code",
   "execution_count": null,
   "metadata": {},
   "outputs": [
    {
     "output_type": "stream",
     "name": "stdout",
     "text": [
      "[1] \"a (0.5), c -> b, d (0.5)\"       \"a (0.5), b, d (0.5) -> a, c, d\""
     ]
    }
   ],
   "source": [
    "print_all_implications(SigmaLHS, SigmaRHS)\n"
   ],
   "id": "fd18166a-e582-46cd-a801-e7b0273594fd"
  },
  {
   "cell_type": "markdown",
   "metadata": {},
   "source": [
    "## Perform `DirectSystem`"
   ],
   "id": "c1a6dc3c-ecbb-4c00-8b20-df0582f2a0a2"
  },
  {
   "cell_type": "code",
   "execution_count": null,
   "metadata": {},
   "outputs": [],
   "source": [
    "Sigma_d_LR <- direct_system(SigmaLHS, SigmaRHS)\n",
    "Sigma_dLHS <- Sigma_d_LR[[1]]\n",
    "Sigma_dRHS <- Sigma_d_LR[[2]]\n"
   ],
   "id": "88d5dcc5-ea49-442c-a9d3-46138afb34c1"
  },
  {
   "cell_type": "code",
   "execution_count": null,
   "metadata": {},
   "outputs": [
    {
     "output_type": "stream",
     "name": "stdout",
     "text": [
      "[1] \"a (0.5), c -> b, d (0.5)\"       \"a (0.5), b, d (0.5) -> a, c, d\"\n",
      "[3] \"b (0.5), c -> b, d (0.5)\"      "
     ]
    }
   ],
   "source": [
    "print_all_implications(Sigma_dLHS, Sigma_dRHS)\n"
   ],
   "id": "637a408f-da9c-46ae-893c-8ebc49144e38"
  }
 ],
 "nbformat": 4,
 "nbformat_minor": 5,
 "metadata": {}
}
