{
 "cells": [
  {
   "cell_type": "markdown",
   "metadata": {},
   "source": [
    "# Code and example\n",
    "\n",
    "Domingo López-Rodríguez, Manuel Ojeda-Hernández\n",
    "\n",
    "# Introduction\n",
    "\n",
    "This is the code and the example in the paper *On direct systems of implications with graded attributes* submitted to EUSFLAT 2025.\n",
    "\n",
    "# Prerequisites\n",
    "\n",
    "We assume knowledge of the `R` programming language. The libraries `digest`, `glue`, and `rlang` should be installed.\n",
    "\n",
    "# Code\n",
    "\n",
    "## Auxiliary functions"
   ],
   "id": "08d50af7-27b9-4ca3-9beb-9e722a51a207"
  },
  {
   "cell_type": "code",
   "execution_count": null,
   "metadata": {},
   "outputs": [],
   "source": [
    "tnorm <- \\(alpha, beta) max(c(0, alpha + beta - 1))\n",
    "union <- \\(A, B) pmax(A, B)\n",
    "setminus <- \\(A, B) {A[B >= A] <- 0; return(A)}\n",
    "otimes <- \\(alpha, A) {sapply(A, \\(x) tnorm(alpha, x))}\n",
    "\n",
    "print_implication <- function(A, B) {\n",
    "\n",
    "  print_set <- function(A) {\n",
    "\n",
    "    a <- A[A > 0]\n",
    "    v_str <- ifelse(a < 1,\n",
    "                    glue::glue(\" ({a})\"),\n",
    "                    \"\")\n",
    "\n",
    "    glue::glue(\"{names(a)}{v_str}\") |>\n",
    "      stringr::str_flatten_comma()\n",
    "\n",
    "  }\n",
    "\n",
    "  a <- print_set(A)\n",
    "  b <- print_set(B)\n",
    "  glue::glue(\"{a} -> {b}\")\n",
    "\n",
    "}\n",
    "\n",
    "# Helps in printing implications for easy reading\n",
    "print_all_implications <- function(LHS, RHS) {\n",
    "\n",
    "  txt <- c()\n",
    "  for (i in seq_along(LHS)) {\n",
    "\n",
    "    txt <- c(txt, print_implication(LHS[[i]], RHS[[i]]))\n",
    "\n",
    "  }\n",
    "\n",
    "  return(txt)\n",
    "\n",
    "}"
   ],
   "id": "dcb27b7d-deeb-4484-986b-da167e5b6516"
  },
  {
   "cell_type": "markdown",
   "metadata": {},
   "source": [
    "## `DirectSystem`"
   ],
   "id": "f4f282ce-9954-475e-a9eb-8c297a24ed98"
  },
  {
   "cell_type": "code",
   "execution_count": null,
   "metadata": {},
   "outputs": [],
   "source": [
    "direct_system <- function(SigmaLHS, SigmaRHS) {\n",
    "  \n",
    "  iter <- 0\n",
    "  \n",
    "  old_pairwise <- matrix(FALSE,\n",
    "                         nrow = length(SigmaLHS),\n",
    "                         ncol = length(SigmaRHS))\n",
    "  colnames(old_pairwise) <- rownames(old_pairwise) <- names(SigmaLHS)\n",
    "  \n",
    "  repeat {\n",
    "    \n",
    "    iter <- iter + 1\n",
    "    \n",
    "    new_pairwise <- matrix(FALSE,\n",
    "                           nrow = length(SigmaLHS),\n",
    "                           ncol = length(SigmaRHS))\n",
    "    colnames(new_pairwise) <- rownames(new_pairwise) <- names(SigmaLHS)\n",
    "    \n",
    "    new_pairwise[old_pairwise] <- TRUE\n",
    "    \n",
    "    added <- FALSE\n",
    "    \n",
    "    newLHS <- newRHS <- list()\n",
    "    \n",
    "    hashes <- names(SigmaLHS)\n",
    "    \n",
    "    configs <- expand.grid(hashes, hashes)\n",
    "    \n",
    "    for (idx in seq(nrow(configs))) {\n",
    "      \n",
    "      i <- configs[idx, 1]\n",
    "      j <- configs[idx, 2]\n",
    "      \n",
    "      if (i == j) next\n",
    "      if (new_pairwise[i, j]) next\n",
    "      \n",
    "      new_pairwise[i, j] <- TRUE\n",
    "      \n",
    "      A <- SigmaLHS[[i]]; B <- SigmaRHS[[i]]\n",
    "      C <- SigmaLHS[[j]]; D <- SigmaRHS[[j]]\n",
    "      \n",
    "      Derived <- add_derived(A, B, C, D)\n",
    "      \n",
    "      Derived <- combine(Derived[[1]], Derived[[2]],\n",
    "                         newLHS, newRHS)\n",
    "      newLHS <- Derived$lhs\n",
    "      newRHS <- Derived$rhs\n",
    "      \n",
    "    }\n",
    "    \n",
    "    # optional, simplification of D\n",
    "    # cat(\"*** Simplifying D:\\n\")\n",
    "    # AA <- simplify(newLHS, newRHS)\n",
    "    # newLHS <- AA[[1]]\n",
    "    # newRHS <- AA[[2]]\n",
    "    \n",
    "    # Combine:  \n",
    "    AA <- combine(newLHS, newRHS,\n",
    "                  SigmaLHS, SigmaRHS,\n",
    "                  new_pairwise)\n",
    "    \n",
    "    SigmaLHS <- AA$lhs\n",
    "    SigmaRHS <- AA$rhs\n",
    "    added <- AA$added\n",
    "    \n",
    "    old_pairwise <- AA$new_pairwise\n",
    "    if (!added) break\n",
    "    \n",
    "  }\n",
    "  \n",
    "  return(invisible(list(SigmaLHS, SigmaRHS)))\n",
    "  \n",
    "}"
   ],
   "id": "fa05f665-32d6-4d5f-ad83-a988ebd81bdf"
  },
  {
   "cell_type": "markdown",
   "metadata": {},
   "source": [
    "## `AddDerived`"
   ],
   "id": "9464ff40-02b5-4643-ad6a-f2b4ec31178b"
  },
  {
   "cell_type": "code",
   "execution_count": null,
   "metadata": {},
   "outputs": [],
   "source": [
    "add_derived <- function(A, B, C, D) {\n",
    "  \n",
    "  LHS <- RHS <- list()\n",
    "  \n",
    "  for (alpha in L) {\n",
    "    \n",
    "    if (alpha == 0) next\n",
    "    \n",
    "    alphaA <- otimes(alpha, A)\n",
    "    alphaB <- otimes(alpha, B)\n",
    "    \n",
    "    for (beta in L) {\n",
    "      \n",
    "      if (beta == 0) next\n",
    "      \n",
    "      cond1 <- setminus(otimes(beta, C), alphaB)\n",
    "      cond2 <- setminus(otimes(beta, D), alphaA)\n",
    "      \n",
    "      if ((sum(cond1) == 0) || (sum(cond2) == 0)) next\n",
    "      \n",
    "      G <- union(alphaA, cond1)\n",
    "      H <- cond2\n",
    "      \n",
    "      LHS <- append(LHS, list(G))\n",
    "      RHS <- append(RHS, list(H))\n",
    "      \n",
    "    }\n",
    "    \n",
    "  }\n",
    "  \n",
    "  return(list(LHS, RHS))\n",
    "  \n",
    "}"
   ],
   "id": "da389c9e-3303-44fb-af7d-01a235efcae1"
  },
  {
   "cell_type": "markdown",
   "metadata": {},
   "source": [
    "## `Combine`"
   ],
   "id": "0faeb5cd-8be0-4004-96d8-f34e2ef35928"
  },
  {
   "cell_type": "code",
   "execution_count": null,
   "metadata": {},
   "outputs": [],
   "source": [
    "combine <- function(LHS1, RHS1,\n",
    "                    SigmaLHS, SigmaRHS,\n",
    "                    new_pairwise) {\n",
    "  \n",
    "  update <- TRUE\n",
    "  if (missing(new_pairwise)) update <- FALSE\n",
    "  \n",
    "  added <- FALSE\n",
    "  \n",
    "  for (i in seq_along(LHS1)) {\n",
    "    \n",
    "    hashA <- digest::digest(LHS1[[i]])\n",
    "    \n",
    "    if (is.null(SigmaLHS[[hashA]])) {\n",
    "      \n",
    "      added <- TRUE\n",
    "      SigmaLHS[[hashA]] <- LHS1[[i]]\n",
    "      SigmaRHS[[hashA]] <- RHS1[[i]]\n",
    "      \n",
    "    } else {\n",
    "      \n",
    "      # It is already an implication with that LHS\n",
    "      if (any(RHS1[[i]] > SigmaRHS[[hashA]])) {\n",
    "        \n",
    "        # New information\n",
    "        added <- TRUE\n",
    "        if (update) {\n",
    "          \n",
    "          new_pairwise[hashA, ] <- FALSE\n",
    "          new_pairwise[, hashA] <- FALSE\n",
    "          \n",
    "        }\n",
    "        SigmaRHS[[hashA]] <- union(SigmaRHS[[hashA]], RHS1[[i]])\n",
    "        \n",
    "      } else {\n",
    "        \n",
    "        # It was already considered in the system\n",
    "        \n",
    "      }\n",
    "      \n",
    "    }\n",
    "    \n",
    "  }\n",
    "  \n",
    "  if (update) {\n",
    "    \n",
    "    return(list(added = added,\n",
    "                lhs = SigmaLHS, rhs = SigmaRHS,\n",
    "                new_pairwise = new_pairwise))\n",
    "    \n",
    "  }\n",
    "  return(list(added = added,\n",
    "              lhs = SigmaLHS, rhs = SigmaRHS))\n",
    "  \n",
    "}"
   ],
   "id": "f98d2788-362e-4cc4-b4a7-df59a31f1406"
  },
  {
   "cell_type": "markdown",
   "metadata": {},
   "source": [
    "# Example"
   ],
   "id": "03be3f8a-06f6-460c-8427-1a0056764244"
  },
  {
   "cell_type": "code",
   "execution_count": null,
   "metadata": {},
   "outputs": [],
   "source": [
    "# Example in the paper\n",
    "L <- c(0, 0.5, 1)\n",
    "LHS1 <- c(0.5, 0, 1, 0) |> rlang::set_names(letters[1:4])\n",
    "RHS1 <- c(0, 1, 0, 0.5) |> rlang::set_names(letters[1:4])\n",
    "LHS2 <- c(0.5, 1, 0, 0.5) |> rlang::set_names(letters[1:4])\n",
    "RHS2 <- c(1, 0, 1, 1) |> rlang::set_names(letters[1:4])\n",
    "\n",
    "LHS <- list(LHS1, LHS2)\n",
    "RHS <- list(RHS1, RHS2)"
   ],
   "id": "e156fe74-0be1-46cb-9dc3-7f595778e449"
  },
  {
   "cell_type": "markdown",
   "metadata": {},
   "source": [
    "## Initialize $\\Sigma$"
   ],
   "id": "de6f4fed-7269-42d7-8988-deb9cab9cec6"
  },
  {
   "cell_type": "code",
   "execution_count": null,
   "metadata": {},
   "outputs": [],
   "source": [
    "SigmaLHS <- SigmaRHS <- list()\n",
    "Sigma <- combine(LHS, RHS, \n",
    "                 SigmaLHS, SigmaRHS)\n",
    "SigmaLHS <- Sigma$lhs\n",
    "SigmaRHS <- Sigma$rhs"
   ],
   "id": "24db565f-85da-4a3a-a9c0-5bbe8ee0670c"
  },
  {
   "cell_type": "code",
   "execution_count": null,
   "metadata": {},
   "outputs": [
    {
     "output_type": "stream",
     "name": "stdout",
     "text": [
      "[1] \"a (0.5), c -> b, d (0.5)\"       \"a (0.5), b, d (0.5) -> a, c, d\""
     ]
    }
   ],
   "source": [
    "print_all_implications(SigmaLHS, SigmaRHS)"
   ],
   "id": "45291f73-6b0f-4a55-9e94-217b94b6278c"
  },
  {
   "cell_type": "markdown",
   "metadata": {},
   "source": [
    "## Perform `DirectSystem`"
   ],
   "id": "4f557d16-125d-4ea7-b25e-61c521b1535a"
  },
  {
   "cell_type": "code",
   "execution_count": null,
   "metadata": {},
   "outputs": [],
   "source": [
    "Sigma_d_LR <- direct_system(SigmaLHS, SigmaRHS)\n",
    "Sigma_dLHS <- Sigma_d_LR[[1]]\n",
    "Sigma_dRHS <- Sigma_d_LR[[2]]"
   ],
   "id": "c1a7a295-4098-436e-b86c-b9cb4ab2f7cf"
  },
  {
   "cell_type": "code",
   "execution_count": null,
   "metadata": {},
   "outputs": [
    {
     "output_type": "stream",
     "name": "stdout",
     "text": [
      " [1] \"a (0.5), c -> a, b, d\"                  \n",
      " [2] \"a (0.5), b, d (0.5) -> a, c, d\"         \n",
      " [3] \"b (0.5), c -> a, b, d\"                  \n",
      " [4] \"a (0.5), b, c (0.5), d (0.5) -> a, c, d\"\n",
      " [5] \"c (0.5) -> a (0.5), b (0.5), d (0.5)\"   \n",
      " [6] \"a (0.5), b (0.5), c -> a, b, d\"         \n",
      " [7] \"b, c (0.5) -> a, c, d\"                  \n",
      " [8] \"b (0.5) -> a (0.5), c (0.5), d (0.5)\"   \n",
      " [9] \"b -> a, c, d\"                           \n",
      "[10] \"c -> a, b, d\"                           "
     ]
    }
   ],
   "source": [
    "print_all_implications(Sigma_dLHS, Sigma_dRHS)"
   ],
   "id": "d55529b8-3f1d-4706-b010-8ec6db2c5fb5"
  }
 ],
 "nbformat": 4,
 "nbformat_minor": 5,
 "metadata": {}
}
