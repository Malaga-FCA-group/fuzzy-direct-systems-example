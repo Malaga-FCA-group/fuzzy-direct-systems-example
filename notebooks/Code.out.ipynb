{
 "cells": [
  {
   "cell_type": "markdown",
   "metadata": {},
   "source": [
    "# Code and example\n",
    "\n",
    "Domingo López-Rodríguez, Manuel Ojeda-Hernández\n",
    "\n",
    "# Introduction\n",
    "\n",
    "This is the code and the example in the paper *On direct systems of implications with graded attributes* submitted to EUSFLAT 2025.\n",
    "\n",
    "# Prerequisites\n",
    "\n",
    "We assume knowledge of the `R` programming language. The libraries `digest`, `glue`, and `rlang` should be installed.\n",
    "\n",
    "# Code\n",
    "\n",
    "## Auxiliary functions"
   ],
   "id": "bb2c2a46-0d30-48f6-a071-68aa2b1f7f2e"
  },
  {
   "cell_type": "code",
   "execution_count": null,
   "metadata": {},
   "outputs": [],
   "source": [
    "tnorm <- \\(alpha, beta) max(c(0, alpha + beta - 1))\n",
    "union <- \\(A, B) pmax(A, B)\n",
    "setminus <- \\(A, B) {A[B >= A] <- 0; return(A)}\n",
    "otimes <- \\(alpha, A) {sapply(A, \\(x) tnorm(alpha, x))}\n",
    "\n",
    "print_implication <- function(A, B) {\n",
    "\n",
    "  print_set <- function(A) {\n",
    "\n",
    "    a <- A[A > 0]\n",
    "    v_str <- ifelse(a < 1,\n",
    "                    glue::glue(\" ({a})\"),\n",
    "                    \"\")\n",
    "\n",
    "    glue::glue(\"{names(a)}{v_str}\") |>\n",
    "      stringr::str_flatten_comma()\n",
    "\n",
    "  }\n",
    "\n",
    "  a <- print_set(A)\n",
    "  b <- print_set(B)\n",
    "  glue::glue(\"{a} -> {b}\")\n",
    "\n",
    "}\n",
    "\n",
    "# Helps in printing implications for easy reading\n",
    "print_all_implications <- function(LHS, RHS) {\n",
    "\n",
    "  txt <- c()\n",
    "  for (i in seq_along(LHS)) {\n",
    "\n",
    "    txt <- c(txt, print_implication(LHS[[i]], RHS[[i]]))\n",
    "\n",
    "  }\n",
    "\n",
    "  return(txt)\n",
    "\n",
    "}\n"
   ],
   "id": "b4d67ef8-bfe0-450f-9cf6-157df54f9a05"
  },
  {
   "cell_type": "markdown",
   "metadata": {},
   "source": [
    "## `DirectSystem`"
   ],
   "id": "fac79289-991a-4782-a17d-d4a367c81c00"
  },
  {
   "cell_type": "code",
   "execution_count": null,
   "metadata": {},
   "outputs": [],
   "source": [
    "direct_system <- function(SigmaLHS, SigmaRHS) {\n",
    "  \n",
    "  iter <- 0\n",
    "  \n",
    "  old_pairwise <- matrix(FALSE,\n",
    "                         nrow = length(SigmaLHS),\n",
    "                         ncol = length(SigmaRHS))\n",
    "  colnames(old_pairwise) <- rownames(old_pairwise) <- names(SigmaLHS)\n",
    "  \n",
    "  repeat {\n",
    "    \n",
    "    iter <- iter + 1\n",
    "    \n",
    "    new_pairwise <- matrix(FALSE,\n",
    "                           nrow = length(SigmaLHS),\n",
    "                           ncol = length(SigmaRHS))\n",
    "    colnames(new_pairwise) <- rownames(new_pairwise) <- names(SigmaLHS)\n",
    "    \n",
    "    new_pairwise[old_pairwise] <- TRUE\n",
    "    \n",
    "    added <- FALSE\n",
    "    \n",
    "    newLHS <- newRHS <- list()\n",
    "    \n",
    "    hashes <- names(SigmaLHS)\n",
    "    \n",
    "    configs <- expand.grid(hashes, hashes)\n",
    "    \n",
    "    for (idx in seq(nrow(configs))) {\n",
    "      \n",
    "      i <- configs[idx, 1]\n",
    "      j <- configs[idx, 2]\n",
    "      \n",
    "      if (i == j) next\n",
    "      if (new_pairwise[i, j]) next\n",
    "      \n",
    "      new_pairwise[i, j] <- TRUE\n",
    "      \n",
    "      A <- SigmaLHS[[i]]; B <- SigmaRHS[[i]]\n",
    "      C <- SigmaLHS[[j]]; D <- SigmaRHS[[j]]\n",
    "      \n",
    "      Derived <- add_derived(A, B, C, D)\n",
    "      \n",
    "      Derived <- combine(Derived[[1]], Derived[[2]],\n",
    "                         newLHS, newRHS)\n",
    "      newLHS <- Derived$lhs\n",
    "      newRHS <- Derived$rhs\n",
    "      \n",
    "    }\n",
    "    \n",
    "    # optional, simplification of D\n",
    "    # cat(\"*** Simplifying D:\\n\")\n",
    "    # AA <- simplify(newLHS, newRHS)\n",
    "    # newLHS <- AA[[1]]\n",
    "    # newRHS <- AA[[2]]\n",
    "    \n",
    "    # Combine:  \n",
    "    AA <- combine(newLHS, newRHS,\n",
    "                  SigmaLHS, SigmaRHS,\n",
    "                  new_pairwise)\n",
    "    \n",
    "    SigmaLHS <- AA$lhs\n",
    "    SigmaRHS <- AA$rhs\n",
    "    added <- AA$added\n",
    "    \n",
    "    old_pairwise <- AA$new_pairwise\n",
    "    if (!added) break\n",
    "    \n",
    "  }\n",
    "  \n",
    "  return(invisible(list(SigmaLHS, SigmaRHS)))\n",
    "  \n",
    "}\n"
   ],
   "id": "5bd35a7c-1168-4d1f-b73a-5ce55f7eae26"
  },
  {
   "cell_type": "markdown",
   "metadata": {},
   "source": [
    "## `AddDerived`"
   ],
   "id": "211a8ac1-0d17-4511-a295-ee1388602968"
  },
  {
   "cell_type": "code",
   "execution_count": null,
   "metadata": {},
   "outputs": [],
   "source": [
    "add_derived <- function(A, B, C, D) {\n",
    "  \n",
    "  LHS <- RHS <- list()\n",
    "  \n",
    "  for (alpha in L) {\n",
    "    \n",
    "    if (alpha == 0) next\n",
    "    \n",
    "    alphaA <- otimes(alpha, A)\n",
    "    alphaB <- otimes(alpha, B)\n",
    "    \n",
    "    for (beta in L) {\n",
    "      \n",
    "      if (beta == 0) next\n",
    "      \n",
    "      cond1 <- setminus(otimes(beta, C), alphaB)\n",
    "      cond2 <- setminus(otimes(beta, D), alphaA)\n",
    "      \n",
    "      if ((sum(cond1) == 0) || (sum(cond2) == 0)) next\n",
    "      \n",
    "      G <- union(alphaA, cond1)\n",
    "      H <- cond2\n",
    "      \n",
    "      LHS <- append(LHS, list(G))\n",
    "      RHS <- append(RHS, list(H))\n",
    "      \n",
    "    }\n",
    "    \n",
    "  }\n",
    "  \n",
    "  return(list(LHS, RHS))\n",
    "  \n",
    "}\n"
   ],
   "id": "77db81a3-64e5-45f4-bd3a-843424f2994a"
  },
  {
   "cell_type": "markdown",
   "metadata": {},
   "source": [
    "## `Combine`"
   ],
   "id": "cfd0c59a-6016-4deb-aaa9-48a8b2d4b34f"
  },
  {
   "cell_type": "code",
   "execution_count": null,
   "metadata": {},
   "outputs": [],
   "source": [
    "combine <- function(LHS1, RHS1,\n",
    "                    SigmaLHS, SigmaRHS,\n",
    "                    new_pairwise) {\n",
    "  \n",
    "  update <- TRUE\n",
    "  if (missing(new_pairwise)) update <- FALSE\n",
    "  \n",
    "  added <- FALSE\n",
    "  \n",
    "  for (i in seq_along(LHS1)) {\n",
    "    \n",
    "    hashA <- digest::digest(LHS1[[i]])\n",
    "    \n",
    "    if (is.null(SigmaLHS[[hashA]])) {\n",
    "      \n",
    "      added <- TRUE\n",
    "      SigmaLHS[[hashA]] <- LHS1[[i]]\n",
    "      SigmaRHS[[hashA]] <- RHS1[[i]]\n",
    "      \n",
    "    } else {\n",
    "      \n",
    "      # It is already an implication with that LHS\n",
    "      if (any(RHS1[[i]] > SigmaRHS[[hashA]])) {\n",
    "        \n",
    "        # New information\n",
    "        added <- TRUE\n",
    "        if (update) {\n",
    "          \n",
    "          new_pairwise[hashA, ] <- FALSE\n",
    "          new_pairwise[, hashA] <- FALSE\n",
    "          \n",
    "        }\n",
    "        SigmaRHS[[hashA]] <- union(SigmaRHS[[hashA]], RHS1[[i]])\n",
    "        \n",
    "      } else {\n",
    "        \n",
    "        # It was already considered in the system\n",
    "        \n",
    "      }\n",
    "      \n",
    "    }\n",
    "    \n",
    "  }\n",
    "  \n",
    "  if (update) {\n",
    "    \n",
    "    return(list(added = added,\n",
    "                lhs = SigmaLHS, rhs = SigmaRHS,\n",
    "                new_pairwise = new_pairwise))\n",
    "    \n",
    "  }\n",
    "  return(list(added = added,\n",
    "              lhs = SigmaLHS, rhs = SigmaRHS))\n",
    "  \n",
    "}\n"
   ],
   "id": "1279f91d-d23a-4a24-8f2b-12d63efb8c95"
  },
  {
   "cell_type": "markdown",
   "metadata": {},
   "source": [
    "# Example"
   ],
   "id": "dc6ef4c4-cabd-4640-9de3-bcb7f1535cf9"
  },
  {
   "cell_type": "code",
   "execution_count": null,
   "metadata": {},
   "outputs": [],
   "source": [
    "# Example in the paper\n",
    "L <- c(0, 0.5, 1)\n",
    "LHS1 <- c(0.5, 0, 1, 0) |> rlang::set_names(letters[1:4])\n",
    "RHS1 <- c(0, 1, 0, 0.5) |> rlang::set_names(letters[1:4])\n",
    "LHS2 <- c(0.5, 1, 0, 0.5) |> rlang::set_names(letters[1:4])\n",
    "RHS2 <- c(1, 0, 1, 1) |> rlang::set_names(letters[1:4])\n",
    "\n",
    "LHS <- list(LHS1, LHS2)\n",
    "RHS <- list(RHS1, RHS2)\n"
   ],
   "id": "d75dfafa-d23f-4423-95f7-dbdb4bafe8f3"
  },
  {
   "cell_type": "markdown",
   "metadata": {},
   "source": [
    "## Initialize $\\Sigma$"
   ],
   "id": "6271ea58-c895-481e-9abf-38cd9b771d99"
  },
  {
   "cell_type": "code",
   "execution_count": null,
   "metadata": {},
   "outputs": [],
   "source": [
    "SigmaLHS <- SigmaRHS <- list()\n",
    "Sigma <- combine(LHS, RHS, \n",
    "                 SigmaLHS, SigmaRHS)\n",
    "SigmaLHS <- Sigma$lhs\n",
    "SigmaRHS <- Sigma$rhs\n"
   ],
   "id": "cc61d823-7270-4a6d-9326-f1340d4fad96"
  },
  {
   "cell_type": "code",
   "execution_count": null,
   "metadata": {},
   "outputs": [
    {
     "output_type": "stream",
     "name": "stdout",
     "text": [
      "[1] \"a (0.5), c -> b, d (0.5)\"       \"a (0.5), b, d (0.5) -> a, c, d\""
     ]
    }
   ],
   "source": [
    "print_all_implications(SigmaLHS, SigmaRHS)\n"
   ],
   "id": "7f0fc292-7d3a-4a01-9866-cefe5a2f9a26"
  },
  {
   "cell_type": "markdown",
   "metadata": {},
   "source": [
    "## Perform `DirectSystem`"
   ],
   "id": "0feb8926-2ea0-4332-9331-b5a5ca305c97"
  },
  {
   "cell_type": "code",
   "execution_count": null,
   "metadata": {},
   "outputs": [],
   "source": [
    "Sigma_d_LR <- direct_system(SigmaLHS, SigmaRHS)\n",
    "Sigma_dLHS <- Sigma_d_LR[[1]]\n",
    "Sigma_dRHS <- Sigma_d_LR[[2]]\n"
   ],
   "id": "9db02d55-8373-423e-b0e3-c5257bcc2b99"
  },
  {
   "cell_type": "code",
   "execution_count": null,
   "metadata": {},
   "outputs": [
    {
     "output_type": "stream",
     "name": "stdout",
     "text": [
      " [1] \"a (0.5), c -> a, b, d\"                  \n",
      " [2] \"a (0.5), b, d (0.5) -> a, c, d\"         \n",
      " [3] \"b (0.5), c -> a, b, d\"                  \n",
      " [4] \"a (0.5), b, c (0.5), d (0.5) -> a, c, d\"\n",
      " [5] \"c (0.5) -> a (0.5), b (0.5), d (0.5)\"   \n",
      " [6] \"a (0.5), b (0.5), c -> a, b, d\"         \n",
      " [7] \"b, c (0.5) -> a, c, d\"                  \n",
      " [8] \"b (0.5) -> a (0.5), c (0.5), d (0.5)\"   \n",
      " [9] \"b -> a, c, d\"                           \n",
      "[10] \"c -> a, b, d\"                           "
     ]
    }
   ],
   "source": [
    "print_all_implications(Sigma_dLHS, Sigma_dRHS)\n"
   ],
   "id": "ac31843e-fcab-4454-82f3-df3283c2b378"
  }
 ],
 "nbformat": 4,
 "nbformat_minor": 5,
 "metadata": {}
}
